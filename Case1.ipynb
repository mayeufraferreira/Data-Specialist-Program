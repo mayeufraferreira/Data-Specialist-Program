{
  "nbformat": 4,
  "nbformat_minor": 0,
  "metadata": {
    "colab": {
      "provenance": []
    },
    "kernelspec": {
      "name": "python3",
      "display_name": "Python 3"
    },
    "language_info": {
      "name": "python"
    }
  },
  "cells": [
    {
      "cell_type": "code",
      "execution_count": null,
      "metadata": {
        "id": "KryMvkP8WgQR"
      },
      "outputs": [],
      "source": [
        "#Importação das bibliotecas\n",
        "import pandas as pd\n",
        "from pandasql import sqldf\n",
        "\n",
        "#importação do csv\n",
        "df_casos_covid = pd.read_csv('content/caso_full.csv')\n",
        "\n",
        "#Selecione todas as cidades presentes na base de dados;\n",
        "query = '''\n",
        "SELECT * FROM df_casos_covid\n",
        "GROUP by city\n",
        "'''\n",
        "df_result = sqldf(query)\n",
        "\n",
        "#Encontre a data mais recente em que cada cidade registrou novos casos confirmados\n",
        "query1 = '''\n",
        "SELECT city, MAX(date) as most_recent_date FROM df_casos_covid\n",
        "GROUP by city\n",
        "'''\n",
        "df_most_recent = sqldf(query1)\n",
        "\n",
        "#Encontre a média de mortalidade por estado\n",
        "query2 = '''\n",
        "SELECT state, AVG(last_available_death_rate) as death_rate FROM df_casos_covid\n",
        "GROUP by state\n",
        "'''\n",
        "df_death = sqldf(query2)\n",
        "\n",
        "#Para cada estado, encontre a cidade com a maior taxa de mortalidade\n",
        "query3 = '''\n",
        "SELECT state, city, MAX(last_available_death_rate) as max_death_rate FROM df_casos_covid\n",
        "GROUP by state\n",
        "'''\n",
        "df_death_max = sqldf(query3)\n",
        "\n",
        "#Obtenha a soma total de novos casos confirmados para cada estado em uma semana epidemiológica específica\n",
        "query4 = '''\n",
        "SELECT state, epidemiological_week, SUM(new_confirmed) as new_cases FROM df_casos_covid\n",
        "GROUP by epidemiological_week\n",
        "'''\n",
        "df_sum = sqldf(query4)"
      ]
    }
  ]
}